{
 "cells": [
  {
   "cell_type": "code",
   "execution_count": 1,
   "id": "9b4935d3-9c40-473b-8efd-c674f6e8124e",
   "metadata": {},
   "outputs": [
    {
     "data": {
      "text/plain": [
       "('amazon_reviews.csv', <http.client.HTTPMessage at 0x7f83c1be0b90>)"
      ]
     },
     "execution_count": 1,
     "metadata": {},
     "output_type": "execute_result"
    }
   ],
   "source": [
    "import urllib.request\n",
    "urllib.request.urlretrieve(\"https://huggingface.co/datasets/hugginglearners/amazon-reviews-sentiment-analysis/resolve/main/amazon_reviews.csv?download=true\", \"amazon_reviews.csv\")"
   ]
  },
  {
   "cell_type": "code",
   "execution_count": 2,
   "id": "14887d4a-5fe8-41ff-b472-0f69df12aaf9",
   "metadata": {},
   "outputs": [],
   "source": [
    "!pip install pandas --quiet"
   ]
  },
  {
   "cell_type": "code",
   "execution_count": 3,
   "id": "94c6d637-d6c8-4895-8596-6cac2f815ac2",
   "metadata": {},
   "outputs": [],
   "source": [
    "import pandas as pd\n",
    "\n",
    "reviews = pd.read_csv(\"amazon_reviews.csv\")"
   ]
  },
  {
   "cell_type": "code",
   "execution_count": 4,
   "id": "76265bea-e318-4126-9bac-d2811db79042",
   "metadata": {},
   "outputs": [
    {
     "name": "stderr",
     "output_type": "stream",
     "text": [
      "/tmp/ipykernel_303/1479949678.py:3: DeprecationWarning: DataFrameGroupBy.apply operated on the grouping columns. This behavior is deprecated, and in a future version of pandas the grouping columns will be excluded from the operation. Either pass `include_groups=False` to exclude the groupings or explicitly select the grouping columns after groupby to silence this warning.\n",
      "  seed_selection_df = reviews.groupby('overall', group_keys=False).apply(lambda x: x.sample(min(len(x), SAMPLES_PER_SCORE)))\n"
     ]
    }
   ],
   "source": [
    "#stratified sample\n",
    "SAMPLES_PER_SCORE = 10\n",
    "seed_selection_df = reviews.groupby('overall', group_keys=False).apply(lambda x: x.sample(min(len(x), SAMPLES_PER_SCORE)))"
   ]
  },
  {
   "cell_type": "code",
   "execution_count": 5,
   "id": "3fb16919-aa4f-4671-b832-e6ad4b04994e",
   "metadata": {},
   "outputs": [
    {
     "data": {
      "text/html": [
       "<div>\n",
       "<style scoped>\n",
       "    .dataframe tbody tr th:only-of-type {\n",
       "        vertical-align: middle;\n",
       "    }\n",
       "\n",
       "    .dataframe tbody tr th {\n",
       "        vertical-align: top;\n",
       "    }\n",
       "\n",
       "    .dataframe thead th {\n",
       "        text-align: right;\n",
       "    }\n",
       "</style>\n",
       "<table border=\"1\" class=\"dataframe\">\n",
       "  <thead>\n",
       "    <tr style=\"text-align: right;\">\n",
       "      <th></th>\n",
       "      <th>Unnamed: 0</th>\n",
       "      <th>overall</th>\n",
       "      <th>day_diff</th>\n",
       "      <th>helpful_yes</th>\n",
       "      <th>helpful_no</th>\n",
       "      <th>total_vote</th>\n",
       "      <th>score_pos_neg_diff</th>\n",
       "      <th>score_average_rating</th>\n",
       "      <th>wilson_lower_bound</th>\n",
       "    </tr>\n",
       "  </thead>\n",
       "  <tbody>\n",
       "    <tr>\n",
       "      <th>count</th>\n",
       "      <td>50.000000</td>\n",
       "      <td>50.000000</td>\n",
       "      <td>50.000000</td>\n",
       "      <td>50.000000</td>\n",
       "      <td>50.000000</td>\n",
       "      <td>50.000000</td>\n",
       "      <td>50.000000</td>\n",
       "      <td>50.000000</td>\n",
       "      <td>50.000000</td>\n",
       "    </tr>\n",
       "    <tr>\n",
       "      <th>mean</th>\n",
       "      <td>2537.640000</td>\n",
       "      <td>3.000000</td>\n",
       "      <td>456.220000</td>\n",
       "      <td>0.240000</td>\n",
       "      <td>0.280000</td>\n",
       "      <td>0.520000</td>\n",
       "      <td>-0.040000</td>\n",
       "      <td>0.099333</td>\n",
       "      <td>0.026621</td>\n",
       "    </tr>\n",
       "    <tr>\n",
       "      <th>std</th>\n",
       "      <td>1269.304144</td>\n",
       "      <td>1.428571</td>\n",
       "      <td>212.383201</td>\n",
       "      <td>0.686904</td>\n",
       "      <td>0.671277</td>\n",
       "      <td>1.110984</td>\n",
       "      <td>0.781417</td>\n",
       "      <td>0.252290</td>\n",
       "      <td>0.078227</td>\n",
       "    </tr>\n",
       "    <tr>\n",
       "      <th>min</th>\n",
       "      <td>319.000000</td>\n",
       "      <td>1.000000</td>\n",
       "      <td>129.000000</td>\n",
       "      <td>0.000000</td>\n",
       "      <td>0.000000</td>\n",
       "      <td>0.000000</td>\n",
       "      <td>-3.000000</td>\n",
       "      <td>0.000000</td>\n",
       "      <td>0.000000</td>\n",
       "    </tr>\n",
       "    <tr>\n",
       "      <th>25%</th>\n",
       "      <td>1642.500000</td>\n",
       "      <td>2.000000</td>\n",
       "      <td>247.250000</td>\n",
       "      <td>0.000000</td>\n",
       "      <td>0.000000</td>\n",
       "      <td>0.000000</td>\n",
       "      <td>0.000000</td>\n",
       "      <td>0.000000</td>\n",
       "      <td>0.000000</td>\n",
       "    </tr>\n",
       "    <tr>\n",
       "      <th>50%</th>\n",
       "      <td>2420.500000</td>\n",
       "      <td>3.000000</td>\n",
       "      <td>477.500000</td>\n",
       "      <td>0.000000</td>\n",
       "      <td>0.000000</td>\n",
       "      <td>0.000000</td>\n",
       "      <td>0.000000</td>\n",
       "      <td>0.000000</td>\n",
       "      <td>0.000000</td>\n",
       "    </tr>\n",
       "    <tr>\n",
       "      <th>75%</th>\n",
       "      <td>3489.000000</td>\n",
       "      <td>4.000000</td>\n",
       "      <td>633.750000</td>\n",
       "      <td>0.000000</td>\n",
       "      <td>0.000000</td>\n",
       "      <td>0.000000</td>\n",
       "      <td>0.000000</td>\n",
       "      <td>0.000000</td>\n",
       "      <td>0.000000</td>\n",
       "    </tr>\n",
       "    <tr>\n",
       "      <th>max</th>\n",
       "      <td>4770.000000</td>\n",
       "      <td>5.000000</td>\n",
       "      <td>910.000000</td>\n",
       "      <td>4.000000</td>\n",
       "      <td>3.000000</td>\n",
       "      <td>5.000000</td>\n",
       "      <td>3.000000</td>\n",
       "      <td>1.000000</td>\n",
       "      <td>0.375535</td>\n",
       "    </tr>\n",
       "  </tbody>\n",
       "</table>\n",
       "</div>"
      ],
      "text/plain": [
       "        Unnamed: 0    overall    day_diff  helpful_yes  helpful_no  \\\n",
       "count    50.000000  50.000000   50.000000    50.000000   50.000000   \n",
       "mean   2537.640000   3.000000  456.220000     0.240000    0.280000   \n",
       "std    1269.304144   1.428571  212.383201     0.686904    0.671277   \n",
       "min     319.000000   1.000000  129.000000     0.000000    0.000000   \n",
       "25%    1642.500000   2.000000  247.250000     0.000000    0.000000   \n",
       "50%    2420.500000   3.000000  477.500000     0.000000    0.000000   \n",
       "75%    3489.000000   4.000000  633.750000     0.000000    0.000000   \n",
       "max    4770.000000   5.000000  910.000000     4.000000    3.000000   \n",
       "\n",
       "       total_vote  score_pos_neg_diff  score_average_rating  \\\n",
       "count   50.000000           50.000000             50.000000   \n",
       "mean     0.520000           -0.040000              0.099333   \n",
       "std      1.110984            0.781417              0.252290   \n",
       "min      0.000000           -3.000000              0.000000   \n",
       "25%      0.000000            0.000000              0.000000   \n",
       "50%      0.000000            0.000000              0.000000   \n",
       "75%      0.000000            0.000000              0.000000   \n",
       "max      5.000000            3.000000              1.000000   \n",
       "\n",
       "       wilson_lower_bound  \n",
       "count           50.000000  \n",
       "mean             0.026621  \n",
       "std              0.078227  \n",
       "min              0.000000  \n",
       "25%              0.000000  \n",
       "50%              0.000000  \n",
       "75%              0.000000  \n",
       "max              0.375535  "
      ]
     },
     "execution_count": 5,
     "metadata": {},
     "output_type": "execute_result"
    }
   ],
   "source": [
    "seed_selection_df.describe()"
   ]
  },
  {
   "cell_type": "code",
   "execution_count": 36,
   "id": "4c8c0f3d-fc0f-42c0-bc80-d41340ae74e1",
   "metadata": {},
   "outputs": [
    {
     "data": {
      "text/html": [
       "<div>\n",
       "<style scoped>\n",
       "    .dataframe tbody tr th:only-of-type {\n",
       "        vertical-align: middle;\n",
       "    }\n",
       "\n",
       "    .dataframe tbody tr th {\n",
       "        vertical-align: top;\n",
       "    }\n",
       "\n",
       "    .dataframe thead th {\n",
       "        text-align: right;\n",
       "    }\n",
       "</style>\n",
       "<table border=\"1\" class=\"dataframe\">\n",
       "  <thead>\n",
       "    <tr style=\"text-align: right;\">\n",
       "      <th></th>\n",
       "      <th>Unnamed: 0</th>\n",
       "      <th>reviewerName</th>\n",
       "      <th>overall</th>\n",
       "      <th>reviewText</th>\n",
       "      <th>reviewTime</th>\n",
       "      <th>day_diff</th>\n",
       "      <th>helpful_yes</th>\n",
       "      <th>helpful_no</th>\n",
       "      <th>total_vote</th>\n",
       "      <th>score_pos_neg_diff</th>\n",
       "      <th>score_average_rating</th>\n",
       "      <th>wilson_lower_bound</th>\n",
       "    </tr>\n",
       "  </thead>\n",
       "  <tbody>\n",
       "    <tr>\n",
       "      <th>1866</th>\n",
       "      <td>1866</td>\n",
       "      <td>Gregory P. Alford \"Senior Consultant\"</td>\n",
       "      <td>1.0</td>\n",
       "      <td>This is one of those basic items that usually ...</td>\n",
       "      <td>2013-05-02</td>\n",
       "      <td>585</td>\n",
       "      <td>1</td>\n",
       "      <td>1</td>\n",
       "      <td>2</td>\n",
       "      <td>0</td>\n",
       "      <td>0.500000</td>\n",
       "      <td>0.094531</td>\n",
       "    </tr>\n",
       "    <tr>\n",
       "      <th>1593</th>\n",
       "      <td>1593</td>\n",
       "      <td>Eric Redman</td>\n",
       "      <td>1.0</td>\n",
       "      <td>Could not figure out why this card crashed mul...</td>\n",
       "      <td>2012-12-14</td>\n",
       "      <td>724</td>\n",
       "      <td>1</td>\n",
       "      <td>2</td>\n",
       "      <td>3</td>\n",
       "      <td>-1</td>\n",
       "      <td>0.333333</td>\n",
       "      <td>0.061492</td>\n",
       "    </tr>\n",
       "    <tr>\n",
       "      <th>1887</th>\n",
       "      <td>1887</td>\n",
       "      <td>G. Stucco \"mr guido\"</td>\n",
       "      <td>1.0</td>\n",
       "      <td>Broke after  2 weeks.....I will go back to Sam...</td>\n",
       "      <td>2013-07-12</td>\n",
       "      <td>514</td>\n",
       "      <td>1</td>\n",
       "      <td>0</td>\n",
       "      <td>1</td>\n",
       "      <td>1</td>\n",
       "      <td>1.000000</td>\n",
       "      <td>0.206549</td>\n",
       "    </tr>\n",
       "    <tr>\n",
       "      <th>3126</th>\n",
       "      <td>3126</td>\n",
       "      <td>M</td>\n",
       "      <td>1.0</td>\n",
       "      <td>I had it for a day before it died and lost all...</td>\n",
       "      <td>2014-06-01</td>\n",
       "      <td>190</td>\n",
       "      <td>0</td>\n",
       "      <td>0</td>\n",
       "      <td>0</td>\n",
       "      <td>0</td>\n",
       "      <td>0.000000</td>\n",
       "      <td>0.000000</td>\n",
       "    </tr>\n",
       "    <tr>\n",
       "      <th>593</th>\n",
       "      <td>593</td>\n",
       "      <td>bgcam</td>\n",
       "      <td>1.0</td>\n",
       "      <td>I was better off with my 32gig card.  This thi...</td>\n",
       "      <td>2013-04-24</td>\n",
       "      <td>593</td>\n",
       "      <td>0</td>\n",
       "      <td>0</td>\n",
       "      <td>0</td>\n",
       "      <td>0</td>\n",
       "      <td>0.000000</td>\n",
       "      <td>0.000000</td>\n",
       "    </tr>\n",
       "  </tbody>\n",
       "</table>\n",
       "</div>"
      ],
      "text/plain": [
       "      Unnamed: 0                           reviewerName  overall  \\\n",
       "1866        1866  Gregory P. Alford \"Senior Consultant\"      1.0   \n",
       "1593        1593                            Eric Redman      1.0   \n",
       "1887        1887                   G. Stucco \"mr guido\"      1.0   \n",
       "3126        3126                                      M      1.0   \n",
       "593          593                                  bgcam      1.0   \n",
       "\n",
       "                                             reviewText  reviewTime  day_diff  \\\n",
       "1866  This is one of those basic items that usually ...  2013-05-02       585   \n",
       "1593  Could not figure out why this card crashed mul...  2012-12-14       724   \n",
       "1887  Broke after  2 weeks.....I will go back to Sam...  2013-07-12       514   \n",
       "3126  I had it for a day before it died and lost all...  2014-06-01       190   \n",
       "593   I was better off with my 32gig card.  This thi...  2013-04-24       593   \n",
       "\n",
       "      helpful_yes  helpful_no  total_vote  score_pos_neg_diff  \\\n",
       "1866            1           1           2                   0   \n",
       "1593            1           2           3                  -1   \n",
       "1887            1           0           1                   1   \n",
       "3126            0           0           0                   0   \n",
       "593             0           0           0                   0   \n",
       "\n",
       "      score_average_rating  wilson_lower_bound  \n",
       "1866              0.500000            0.094531  \n",
       "1593              0.333333            0.061492  \n",
       "1887              1.000000            0.206549  \n",
       "3126              0.000000            0.000000  \n",
       "593               0.000000            0.000000  "
      ]
     },
     "execution_count": 36,
     "metadata": {},
     "output_type": "execute_result"
    }
   ],
   "source": [
    "seed_selection_df.head()"
   ]
  },
  {
   "cell_type": "code",
   "execution_count": 7,
   "id": "d7883a0e-1a0f-41a6-8a28-d024ddbfd152",
   "metadata": {},
   "outputs": [],
   "source": [
    "def translate_score_to_sentiment(score: int) -> str:\n",
    "    normalized_score = int(score)-1\n",
    "    if normalized_score < 5:\n",
    "        return [\"Strong Negative\", \"Mild Negative\", \"Neutral\", \"Mild Positive\", \"Strong Positive\"][normalized_score]"
   ]
  },
  {
   "cell_type": "code",
   "execution_count": 16,
   "id": "032fda98-a415-42c5-b1e4-dbc6e2eba50e",
   "metadata": {},
   "outputs": [
    {
     "name": "stdout",
     "output_type": "stream",
     "text": [
      "/home/jovyan/work\n"
     ]
    }
   ],
   "source": [
    "%cd .. "
   ]
  },
  {
   "cell_type": "code",
   "execution_count": 17,
   "id": "62ba787d-3cae-4192-9897-08100703fd3e",
   "metadata": {},
   "outputs": [],
   "source": [
    "import json\n",
    "import random\n",
    "\n",
    "instances = []\n",
    "for i, row in seed_selection_df.iterrows():\n",
    "    instances.append({\n",
    "        \"id\": f\"seed_task_{i}\", \n",
    "        \"name\": \"sentiment_analysis\", \n",
    "        \"ticket\": row[\"reviewText\"], \n",
    "        \"instances\": [\n",
    "            {\n",
    "                \"input\": \"\", \n",
    "                \"output\": translate_score_to_sentiment(row[\"overall\"])\n",
    "            }\n",
    "        ],\n",
    "        \"is_classification\": False\n",
    "    })\n",
    "\n",
    "with open(\"./stanford_alpaca/seed_tasks.jsonl\", \"w\") as outfile:\n",
    "    for instance in instances:\n",
    "        json.dump(instance, outfile)\n",
    "        outfile.write('\\n')"
   ]
  },
  {
   "cell_type": "code",
   "execution_count": 2,
   "id": "701c5fdd-fa3b-4086-baf6-b4d4d48dad47",
   "metadata": {},
   "outputs": [],
   "source": [
    "import os\n",
    "import getpass\n",
    "\n",
    "if not os.environ[\"OPENAI_API_KEY\"]:\n",
    "    os.environ[\"OPENAI_API_KEY\"] = getpass.getpass()"
   ]
  },
  {
   "cell_type": "code",
   "execution_count": 18,
   "id": "a278e454-c85a-4bb4-a74e-007d98693ad4",
   "metadata": {},
   "outputs": [
    {
     "name": "stdout",
     "output_type": "stream",
     "text": [
      "/home/jovyan/work/stanford_alpaca\n"
     ]
    }
   ],
   "source": [
    "%cd stanford_alpaca "
   ]
  },
  {
   "cell_type": "code",
   "execution_count": 35,
   "id": "1742a4c6-d420-4ee9-9c03-137a91539b4f",
   "metadata": {},
   "outputs": [
    {
     "name": "stdout",
     "output_type": "stream",
     "text": [
      "Loaded 50 human-written seed instructions\n"
     ]
    },
    {
     "name": "stderr",
     "output_type": "stream",
     "text": [
      "  0%|          | 0/1000 [00:00<?, ?it/s]\n",
      "prompt_batches:   0%|          | 0/1 [00:00<?, ?it/s]\u001b[A\n",
      "prompt_batches: 100%|██████████| 1/1 [00:53<00:00, 53.64s/it]\u001b[A\n"
     ]
    },
    {
     "name": "stdout",
     "output_type": "stream",
     "text": [
      "Request 1 took 53.64s, processing took 3.89s\n",
      "Generated 73 instructions, kept 73 instructions\n"
     ]
    },
    {
     "name": "stderr",
     "output_type": "stream",
     "text": [
      "  7%|▋         | 72/1000 [00:57<00:47, 19.37it/s]  \n",
      "  7%|▋         | 73/1000 [01:10<00:47, 19.37it/s]t/s]\u001b[A\n",
      "prompt_batches: 100%|██████████| 1/1 [01:33<00:00, 93.81s/it]\u001b[A\n"
     ]
    },
    {
     "name": "stdout",
     "output_type": "stream",
     "text": [
      "Request 2 took 93.81s, processing took 3.80s\n",
      "Generated 62 instructions, kept 62 instructions\n"
     ]
    },
    {
     "name": "stderr",
     "output_type": "stream",
     "text": [
      " 14%|█▎        | 135/1000 [02:35<00:49, 17.30it/s] \n",
      " 14%|█▎        | 135/1000 [02:50<00:49, 17.30it/s]/s]\u001b[A\n",
      "prompt_batches: 100%|██████████| 1/1 [01:54<00:00, 114.29s/it]\u001b[A\n"
     ]
    },
    {
     "name": "stdout",
     "output_type": "stream",
     "text": [
      "Request 3 took 114.29s, processing took 5.53s\n",
      "Generated 76 instructions, kept 76 instructions\n"
     ]
    },
    {
     "name": "stderr",
     "output_type": "stream",
     "text": [
      " 21%|██        | 210/1000 [04:34<01:00, 13.08it/s]  \n",
      " 21%|██        | 211/1000 [04:50<01:00, 13.08it/s]/s]\u001b[A\n",
      "prompt_batches: 100%|██████████| 1/1 [01:32<00:00, 92.64s/it]\u001b[A\n"
     ]
    },
    {
     "name": "stdout",
     "output_type": "stream",
     "text": [
      "Request 4 took 92.64s, processing took 6.06s\n",
      "Generated 74 instructions, kept 74 instructions\n"
     ]
    },
    {
     "name": "stderr",
     "output_type": "stream",
     "text": [
      " 28%|██▊       | 284/1000 [06:13<00:57, 12.52it/s]  \n",
      " 28%|██▊       | 285/1000 [06:30<00:57, 12.52it/s]/s]\u001b[A\n",
      "prompt_batches: 100%|██████████| 1/1 [01:28<00:00, 88.38s/it]\u001b[A\n"
     ]
    },
    {
     "name": "stdout",
     "output_type": "stream",
     "text": [
      "Request 5 took 88.38s, processing took 6.72s\n",
      "Generated 78 instructions, kept 78 instructions\n"
     ]
    },
    {
     "name": "stderr",
     "output_type": "stream",
     "text": [
      " 36%|███▌      | 362/1000 [07:48<01:01, 10.36it/s]  \n",
      " 36%|███▋      | 363/1000 [08:00<01:01, 10.36it/s]/s]\u001b[A\n",
      "prompt_batches: 100%|██████████| 1/1 [01:25<00:00, 85.34s/it]\u001b[A\n"
     ]
    },
    {
     "name": "stdout",
     "output_type": "stream",
     "text": [
      "Request 6 took 85.34s, processing took 6.39s\n",
      "Generated 75 instructions, kept 75 instructions\n"
     ]
    },
    {
     "name": "stderr",
     "output_type": "stream",
     "text": [
      " 44%|████▎     | 437/1000 [09:20<00:48, 11.50it/s]  \n",
      " 44%|████▍     | 438/1000 [09:40<00:48, 11.50it/s]/s]\u001b[A\n",
      "prompt_batches: 100%|██████████| 1/1 [01:41<00:00, 101.79s/it]\u001b[A\n"
     ]
    },
    {
     "name": "stdout",
     "output_type": "stream",
     "text": [
      "Request 7 took 101.79s, processing took 6.23s\n",
      "Generated 60 instructions, kept 60 instructions\n"
     ]
    },
    {
     "name": "stderr",
     "output_type": "stream",
     "text": [
      " 50%|████▉     | 498/1000 [11:08<00:52,  9.62it/s]  \n",
      "prompt_batches:   0%|          | 0/1 [00:00<?, ?it/s]\u001b[A\n",
      "prompt_batches: 100%|██████████| 1/1 [01:35<00:00, 95.11s/it]\u001b[A\n"
     ]
    },
    {
     "name": "stdout",
     "output_type": "stream",
     "text": [
      "Request 8 took 95.11s, processing took 8.50s\n",
      "Generated 77 instructions, kept 77 instructions\n"
     ]
    },
    {
     "name": "stderr",
     "output_type": "stream",
     "text": [
      " 57%|█████▋    | 574/1000 [12:52<00:42, 10.00it/s]  \n",
      "prompt_batches:   0%|          | 0/1 [00:00<?, ?it/s]\u001b[A\n",
      "prompt_batches: 100%|██████████| 1/1 [01:36<00:00, 96.84s/it]\u001b[A\n"
     ]
    },
    {
     "name": "stdout",
     "output_type": "stream",
     "text": [
      "Request 9 took 96.84s, processing took 8.65s\n",
      "Generated 77 instructions, kept 77 instructions\n"
     ]
    },
    {
     "name": "stderr",
     "output_type": "stream",
     "text": [
      " 65%|██████▌   | 652/1000 [14:37<00:48,  7.14it/s]  \n",
      "prompt_batches:   0%|          | 0/1 [00:00<?, ?it/s]\u001b[A\n",
      "prompt_batches: 100%|██████████| 1/1 [05:08<00:00, 308.72s/it]\u001b[A\n"
     ]
    },
    {
     "name": "stdout",
     "output_type": "stream",
     "text": [
      "Request 10 took 308.72s, processing took 8.22s\n",
      "Generated 55 instructions, kept 55 instructions\n"
     ]
    },
    {
     "name": "stderr",
     "output_type": "stream",
     "text": [
      " 71%|███████   | 707/1000 [19:54<00:46,  6.24it/s]  \n",
      "prompt_batches:   0%|          | 0/1 [00:00<?, ?it/s]\u001b[A\n",
      "prompt_batches: 100%|██████████| 1/1 [01:20<00:00, 80.44s/it]\u001b[A\n"
     ]
    },
    {
     "name": "stdout",
     "output_type": "stream",
     "text": [
      "Request 11 took 80.44s, processing took 8.86s\n",
      "Generated 74 instructions, kept 74 instructions\n"
     ]
    },
    {
     "name": "stderr",
     "output_type": "stream",
     "text": [
      " 78%|███████▊  | 781/1000 [21:24<00:29,  7.41it/s]  \n",
      "prompt_batches:   0%|          | 0/1 [00:00<?, ?it/s]\u001b[A\n",
      "prompt_batches: 100%|██████████| 1/1 [01:20<00:00, 80.89s/it]\u001b[A\n"
     ]
    },
    {
     "name": "stdout",
     "output_type": "stream",
     "text": [
      "Request 12 took 80.89s, processing took 10.29s\n",
      "Generated 77 instructions, kept 77 instructions\n"
     ]
    },
    {
     "name": "stderr",
     "output_type": "stream",
     "text": [
      " 86%|████████▌ | 858/1000 [22:55<00:18,  7.50it/s]  \n",
      "prompt_batches:   0%|          | 0/1 [00:00<?, ?it/s]\u001b[A\n",
      "prompt_batches: 100%|██████████| 1/1 [01:26<00:00, 86.61s/it]\u001b[A\n"
     ]
    },
    {
     "name": "stdout",
     "output_type": "stream",
     "text": [
      "Request 13 took 86.61s, processing took 9.21s\n",
      "Generated 74 instructions, kept 74 instructions\n"
     ]
    },
    {
     "name": "stderr",
     "output_type": "stream",
     "text": [
      " 93%|█████████▎| 932/1000 [24:31<00:08,  8.36it/s]  \n",
      "prompt_batches:   0%|          | 0/1 [00:00<?, ?it/s]\u001b[A\n",
      "prompt_batches: 100%|██████████| 1/1 [01:42<00:00, 102.55s/it]\u001b[A\n",
      "1008it [26:24,  1.57s/it]                          \n"
     ]
    },
    {
     "name": "stdout",
     "output_type": "stream",
     "text": [
      "Request 14 took 102.56s, processing took 10.51s\n",
      "Generated 76 instructions, kept 76 instructions\n"
     ]
    }
   ],
   "source": [
    "%%bash\n",
    "rm regen.json\n",
    "python -m generate_instruction generate_instruction_following_data \\\n",
    "  --output_dir ./ \\\n",
    "  --num_instructions_to_generate 1000 \\\n",
    "  --model_name=\"gpt-4o-mini\""
   ]
  }
 ],
 "metadata": {
  "kernelspec": {
   "display_name": "Python 3 (ipykernel)",
   "language": "python",
   "name": "python3"
  },
  "language_info": {
   "codemirror_mode": {
    "name": "ipython",
    "version": 3
   },
   "file_extension": ".py",
   "mimetype": "text/x-python",
   "name": "python",
   "nbconvert_exporter": "python",
   "pygments_lexer": "ipython3",
   "version": "3.11.6"
  }
 },
 "nbformat": 4,
 "nbformat_minor": 5
}
